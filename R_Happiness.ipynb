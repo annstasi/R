{
  "cells": [
    {
      "cell_type": "markdown",
      "metadata": {
        "id": "view-in-github",
        "colab_type": "text"
      },
      "source": [
        "<a href=\"https://colab.research.google.com/github/annstasi/R/blob/main/R_Happiness.ipynb\" target=\"_parent\"><img src=\"https://colab.research.google.com/assets/colab-badge.svg\" alt=\"Open In Colab\"/></a>"
      ]
    },
    {
      "cell_type": "markdown",
      "source": [
        "### Уровень счастья в разных странах\n"
      ],
      "metadata": {
        "id": "wtkM3fZ586KQ"
      }
    },
    {
      "cell_type": "markdown",
      "source": [
        "**Доклад о мировом счастье — это исследование состояния глобального счастья**\n",
        "\n",
        "Оценки основаны на ответах на вопрос об оценке жизни. В вопросе удовлетворенностью жизнью респондентам предлагается подумать о лестнице (Кантрила), в которой лучшая возможная жизнь для них равна 10, а худшая возможная жизнь — 0, и оценить свою текущую жизнь по этой шкале.\n",
        "\n",
        "Колонки, следующие за показателем счастья, оценивают, в какой степени каждый из шести факторов – экономическое производство, социальная поддержка, продолжительность жизни, свобода, отсутствие коррупции и щедрость – способствуют повышению оценок жизни в стране."
      ],
      "metadata": {
        "id": "BT7-ZCk89di7"
      }
    },
    {
      "cell_type": "code",
      "execution_count": null,
      "metadata": {
        "colab": {
          "background_save": true,
          "base_uri": "https://localhost:8080/"
        },
        "id": "vdvY1r7DHC-_",
        "outputId": "48aea54f-d23c-4d54-b885-1d64ef9ed51c"
      },
      "outputs": [
        {
          "name": "stderr",
          "output_type": "stream",
          "text": [
            "Installing package into ‘/usr/local/lib/R/site-library’\n",
            "(as ‘lib’ is unspecified)\n",
            "\n",
            "Installing package into ‘/usr/local/lib/R/site-library’\n",
            "(as ‘lib’ is unspecified)\n",
            "\n",
            "Installing package into ‘/usr/local/lib/R/site-library’\n",
            "(as ‘lib’ is unspecified)\n",
            "\n",
            "also installing the dependencies ‘later’, ‘Rcpp’, ‘htmlwidgets’, ‘lazyeval’, ‘crosstalk’, ‘promises’\n",
            "\n",
            "\n",
            "Installing package into ‘/usr/local/lib/R/site-library’\n",
            "(as ‘lib’ is unspecified)\n",
            "\n",
            "Installing package into ‘/usr/local/lib/R/site-library’\n",
            "(as ‘lib’ is unspecified)\n",
            "\n",
            "also installing the dependencies ‘SparseM’, ‘MatrixModels’, ‘minqa’, ‘nloptr’, ‘RcppEigen’, ‘carData’, ‘pbkrtest’, ‘quantreg’, ‘lme4’, ‘httpuv’, ‘estimability’, ‘numDeriv’, ‘mvtnorm’, ‘corrplot’, ‘viridis’, ‘car’, ‘DT’, ‘ellipse’, ‘emmeans’, ‘flashClust’, ‘leaps’, ‘multcompView’, ‘scatterplot3d’, ‘ggsci’, ‘cowplot’, ‘ggsignif’, ‘gridExtra’, ‘polynom’, ‘rstatix’, ‘plyr’, ‘abind’, ‘dendextend’, ‘FactoMineR’, ‘ggpubr’, ‘reshape2’, ‘ggrepel’\n",
            "\n",
            "\n",
            "Installing package into ‘/usr/local/lib/R/site-library’\n",
            "(as ‘lib’ is unspecified)\n",
            "\n",
            "Installing package into ‘/usr/local/lib/R/site-library’\n",
            "(as ‘lib’ is unspecified)\n",
            "\n",
            "also installing the dependencies ‘proxy’, ‘e1071’, ‘wk’, ‘classInt’, ‘s2’, ‘units’, ‘sf’, ‘terra’, ‘mapproj’, ‘mapdata’, ‘sp’, ‘rnaturalearth’\n",
            "\n",
            "\n"
          ]
        }
      ],
      "source": [
        "install.packages('tidyverse')\n",
        "install.packages('ggthemes')\n",
        "install.packages('plotly')\n",
        "install.packages('dplyr')\n",
        "install.packages('factoextra')\n",
        "install.packages('cluster')\n",
        "install.packages('maps', dependencies = TRUE)"
      ]
    },
    {
      "cell_type": "code",
      "execution_count": null,
      "metadata": {
        "colab": {
          "background_save": true
        },
        "id": "As67xFAUHDrj",
        "outputId": "037481c7-61a1-412d-c302-ed3a597697e9"
      },
      "outputs": [
        {
          "name": "stderr",
          "output_type": "stream",
          "text": [
            "Welcome! Want to learn more? See two factoextra-related books at https://goo.gl/ve3WBa\n",
            "\n",
            "── \u001b[1mAttaching core tidyverse packages\u001b[22m ──────────────────────── tidyverse 2.0.0 ──\n",
            "\u001b[32m✔\u001b[39m \u001b[34mdplyr    \u001b[39m 1.1.3     \u001b[32m✔\u001b[39m \u001b[34mreadr    \u001b[39m 2.1.4\n",
            "\u001b[32m✔\u001b[39m \u001b[34mforcats  \u001b[39m 1.0.0     \u001b[32m✔\u001b[39m \u001b[34mstringr  \u001b[39m 1.5.0\n",
            "\u001b[32m✔\u001b[39m \u001b[34mlubridate\u001b[39m 1.9.2     \u001b[32m✔\u001b[39m \u001b[34mtibble   \u001b[39m 3.2.1\n",
            "\u001b[32m✔\u001b[39m \u001b[34mpurrr    \u001b[39m 1.0.2     \u001b[32m✔\u001b[39m \u001b[34mtidyr    \u001b[39m 1.3.0\n",
            "── \u001b[1mConflicts\u001b[22m ────────────────────────────────────────── tidyverse_conflicts() ──\n",
            "\u001b[31m✖\u001b[39m \u001b[34mdplyr\u001b[39m::\u001b[32mfilter()\u001b[39m masks \u001b[34mstats\u001b[39m::filter()\n",
            "\u001b[31m✖\u001b[39m \u001b[34mdplyr\u001b[39m::\u001b[32mlag()\u001b[39m    masks \u001b[34mstats\u001b[39m::lag()\n",
            "\u001b[36mℹ\u001b[39m Use the conflicted package (\u001b[3m\u001b[34m<http://conflicted.r-lib.org/>\u001b[39m\u001b[23m) to force all conflicts to become errors\n",
            "\n",
            "Attaching package: ‘plotly’\n",
            "\n",
            "\n",
            "The following object is masked from ‘package:ggplot2’:\n",
            "\n",
            "    last_plot\n",
            "\n",
            "\n",
            "The following object is masked from ‘package:stats’:\n",
            "\n",
            "    filter\n",
            "\n",
            "\n",
            "The following object is masked from ‘package:graphics’:\n",
            "\n",
            "    layout\n",
            "\n",
            "\n",
            "Loading required package: maps\n",
            "\n",
            "\n",
            "Attaching package: ‘maps’\n",
            "\n",
            "\n",
            "The following object is masked from ‘package:purrr’:\n",
            "\n",
            "    map\n",
            "\n",
            "\n",
            "The following object is masked from ‘package:cluster’:\n",
            "\n",
            "    votes.repub\n",
            "\n",
            "\n"
          ]
        }
      ],
      "source": [
        "library(ggplot2)\n",
        "library(factoextra)\n",
        "library(cluster)\n",
        "library('tidyverse')\n",
        "library('ggthemes')\n",
        "library('plotly')\n",
        "library('dplyr')\n",
        "require(maps)"
      ]
    },
    {
      "cell_type": "code",
      "execution_count": null,
      "metadata": {
        "id": "rZCWcbNiHJYO"
      },
      "outputs": [],
      "source": [
        "df<-read.csv('https://raw.githubusercontent.com/annstasi/R/main/world-happiness-report-2021.csv', stringsAsFactors = F)\n",
        "df <- subset(df, select=c(\"Country.name\", \"Regional.indicator\", \"Ladder.score\", \"Logged.GDP.per.capita\", \"Social.support\", \"Healthy.life.expectancy\", \"Freedom.to.make.life.choices\", \"Generosity\", \"Perceptions.of.corruption\", \"Dystopia...residual\"))\n",
        "df <- df %>% rename( Country=Country.name, Region=Regional.indicator, Happiness_score=Ladder.score, GDP=Logged.GDP.per.capita, Social_support=Social.support, Life_expectancy=Healthy.life.expectancy, Freedom=Freedom.to.make.life.choices, Corruption=Perceptions.of.corruption, Dystopia_residual=Dystopia...residual)"
      ]
    },
    {
      "cell_type": "code",
      "execution_count": null,
      "metadata": {
        "id": "vY_ivK5bHKvr",
        "colab": {
          "base_uri": "https://localhost:8080/"
        },
        "outputId": "2dbefb10-098e-4307-fa71-6bdcea646667"
      },
      "outputs": [
        {
          "output_type": "stream",
          "name": "stdout",
          "text": [
            "'data.frame':\t149 obs. of  10 variables:\n",
            " $ Country          : chr  \"Finland\" \"Denmark\" \"Switzerland\" \"Iceland\" ...\n",
            " $ Region           : chr  \"Western Europe\" \"Western Europe\" \"Western Europe\" \"Western Europe\" ...\n",
            " $ Happiness_score  : num  7.84 7.62 7.57 7.55 7.46 ...\n",
            " $ GDP              : num  10.8 10.9 11.1 10.9 10.9 ...\n",
            " $ Social_support   : num  0.954 0.954 0.942 0.983 0.942 0.954 0.934 0.908 0.948 0.934 ...\n",
            " $ Life_expectancy  : num  72 72.7 74.4 73 72.4 73.3 72.7 72.6 73.4 73.3 ...\n",
            " $ Freedom          : num  0.949 0.946 0.919 0.955 0.913 0.96 0.945 0.907 0.929 0.908 ...\n",
            " $ Generosity       : num  -0.098 0.03 0.025 0.16 0.175 0.093 0.086 -0.034 0.134 0.042 ...\n",
            " $ Corruption       : num  0.186 0.179 0.292 0.673 0.338 0.27 0.237 0.386 0.242 0.481 ...\n",
            " $ Dystopia_residual: num  3.25 2.87 2.84 2.97 2.8 ...\n"
          ]
        }
      ],
      "source": [
        "str(df)"
      ]
    },
    {
      "cell_type": "code",
      "execution_count": null,
      "metadata": {
        "id": "EabP4_pjHOll",
        "colab": {
          "base_uri": "https://localhost:8080/",
          "height": 255
        },
        "outputId": "ed5265ed-8891-4e36-a737-4611347f3ef3"
      },
      "outputs": [
        {
          "output_type": "display_data",
          "data": {
            "text/html": [
              "<table class=\"dataframe\">\n",
              "<caption>A matrix: 6 × 8 of type dbl</caption>\n",
              "<thead>\n",
              "\t<tr><th></th><th scope=col>Happiness_score</th><th scope=col>GDP</th><th scope=col>Social_support</th><th scope=col>Life_expectancy</th><th scope=col>Freedom</th><th scope=col>Generosity</th><th scope=col>Corruption</th><th scope=col>Dystopia_residual</th></tr>\n",
              "</thead>\n",
              "<tbody>\n",
              "\t<tr><th scope=row>1</th><td>2.150210</td><td>1.158977</td><td>1.212083</td><td>1.036255</td><td>1.388866</td><td>-0.5500304</td><td>-3.021039</td><td>1.5301376</td></tr>\n",
              "\t<tr><th scope=row>2</th><td>1.943491</td><td>1.295348</td><td>1.212083</td><td>1.139774</td><td>1.362395</td><td> 0.2995833</td><td>-3.060096</td><td>0.8140520</td></tr>\n",
              "\t<tr><th scope=row>3</th><td>1.897864</td><td>1.454160</td><td>1.107634</td><td>1.391177</td><td>1.124157</td><td> 0.2663952</td><td>-2.429608</td><td>0.7601131</td></tr>\n",
              "\t<tr><th scope=row>4</th><td>1.882034</td><td>1.247877</td><td>1.464500</td><td>1.184139</td><td>1.441808</td><td> 1.1624722</td><td>-0.303804</td><td>0.9981883</td></tr>\n",
              "\t<tr><th scope=row>5</th><td>1.798230</td><td>1.294485</td><td>1.107634</td><td>1.095409</td><td>1.071215</td><td> 1.2620363</td><td>-2.172949</td><td>0.6838546</td></tr>\n",
              "\t<tr><th scope=row>6</th><td>1.731186</td><td>1.398921</td><td>1.212083</td><td>1.228505</td><td>1.485926</td><td> 0.7177525</td><td>-2.552358</td><td>0.2783827</td></tr>\n",
              "</tbody>\n",
              "</table>\n"
            ],
            "text/markdown": "\nA matrix: 6 × 8 of type dbl\n\n| <!--/--> | Happiness_score | GDP | Social_support | Life_expectancy | Freedom | Generosity | Corruption | Dystopia_residual |\n|---|---|---|---|---|---|---|---|---|\n| 1 | 2.150210 | 1.158977 | 1.212083 | 1.036255 | 1.388866 | -0.5500304 | -3.021039 | 1.5301376 |\n| 2 | 1.943491 | 1.295348 | 1.212083 | 1.139774 | 1.362395 |  0.2995833 | -3.060096 | 0.8140520 |\n| 3 | 1.897864 | 1.454160 | 1.107634 | 1.391177 | 1.124157 |  0.2663952 | -2.429608 | 0.7601131 |\n| 4 | 1.882034 | 1.247877 | 1.464500 | 1.184139 | 1.441808 |  1.1624722 | -0.303804 | 0.9981883 |\n| 5 | 1.798230 | 1.294485 | 1.107634 | 1.095409 | 1.071215 |  1.2620363 | -2.172949 | 0.6838546 |\n| 6 | 1.731186 | 1.398921 | 1.212083 | 1.228505 | 1.485926 |  0.7177525 | -2.552358 | 0.2783827 |\n\n",
            "text/latex": "A matrix: 6 × 8 of type dbl\n\\begin{tabular}{r|llllllll}\n  & Happiness\\_score & GDP & Social\\_support & Life\\_expectancy & Freedom & Generosity & Corruption & Dystopia\\_residual\\\\\n\\hline\n\t1 & 2.150210 & 1.158977 & 1.212083 & 1.036255 & 1.388866 & -0.5500304 & -3.021039 & 1.5301376\\\\\n\t2 & 1.943491 & 1.295348 & 1.212083 & 1.139774 & 1.362395 &  0.2995833 & -3.060096 & 0.8140520\\\\\n\t3 & 1.897864 & 1.454160 & 1.107634 & 1.391177 & 1.124157 &  0.2663952 & -2.429608 & 0.7601131\\\\\n\t4 & 1.882034 & 1.247877 & 1.464500 & 1.184139 & 1.441808 &  1.1624722 & -0.303804 & 0.9981883\\\\\n\t5 & 1.798230 & 1.294485 & 1.107634 & 1.095409 & 1.071215 &  1.2620363 & -2.172949 & 0.6838546\\\\\n\t6 & 1.731186 & 1.398921 & 1.212083 & 1.228505 & 1.485926 &  0.7177525 & -2.552358 & 0.2783827\\\\\n\\end{tabular}\n",
            "text/plain": [
              "  Happiness_score GDP      Social_support Life_expectancy Freedom  Generosity\n",
              "1 2.150210        1.158977 1.212083       1.036255        1.388866 -0.5500304\n",
              "2 1.943491        1.295348 1.212083       1.139774        1.362395  0.2995833\n",
              "3 1.897864        1.454160 1.107634       1.391177        1.124157  0.2663952\n",
              "4 1.882034        1.247877 1.464500       1.184139        1.441808  1.1624722\n",
              "5 1.798230        1.294485 1.107634       1.095409        1.071215  1.2620363\n",
              "6 1.731186        1.398921 1.212083       1.228505        1.485926  0.7177525\n",
              "  Corruption Dystopia_residual\n",
              "1 -3.021039  1.5301376        \n",
              "2 -3.060096  0.8140520        \n",
              "3 -2.429608  0.7601131        \n",
              "4 -0.303804  0.9981883        \n",
              "5 -2.172949  0.6838546        \n",
              "6 -2.552358  0.2783827        "
            ]
          },
          "metadata": {}
        }
      ],
      "source": [
        "# Стандартизация данных\n",
        "data_ST <- scale(df[,-(1:2)])\n",
        "head(data_ST)"
      ]
    },
    {
      "cell_type": "code",
      "execution_count": null,
      "metadata": {
        "id": "T0hWyTgZHQt1",
        "colab": {
          "base_uri": "https://localhost:8080/",
          "height": 192
        },
        "outputId": "ae801229-6b49-4d22-f6a7-beb57899fa80"
      },
      "outputs": [
        {
          "output_type": "display_data",
          "data": {
            "text/html": [
              "<table class=\"dataframe\">\n",
              "<caption>A data.frame: 3 × 11</caption>\n",
              "<thead>\n",
              "\t<tr><th></th><th scope=col>Country</th><th scope=col>Region</th><th scope=col>Happiness_score</th><th scope=col>GDP</th><th scope=col>Social_support</th><th scope=col>Life_expectancy</th><th scope=col>Freedom</th><th scope=col>Generosity</th><th scope=col>Corruption</th><th scope=col>Dystopia_residual</th><th scope=col>cluster</th></tr>\n",
              "\t<tr><th></th><th scope=col>&lt;chr&gt;</th><th scope=col>&lt;chr&gt;</th><th scope=col>&lt;dbl&gt;</th><th scope=col>&lt;dbl&gt;</th><th scope=col>&lt;dbl&gt;</th><th scope=col>&lt;dbl&gt;</th><th scope=col>&lt;dbl&gt;</th><th scope=col>&lt;dbl&gt;</th><th scope=col>&lt;dbl&gt;</th><th scope=col>&lt;dbl&gt;</th><th scope=col>&lt;fct&gt;</th></tr>\n",
              "</thead>\n",
              "<tbody>\n",
              "\t<tr><th scope=row>1</th><td>Finland    </td><td>Western Europe</td><td>7.842</td><td>10.775</td><td>0.954</td><td>72.0</td><td>0.949</td><td>-0.098</td><td>0.186</td><td>3.253</td><td>1</td></tr>\n",
              "\t<tr><th scope=row>2</th><td>Denmark    </td><td>Western Europe</td><td>7.620</td><td>10.933</td><td>0.954</td><td>72.7</td><td>0.946</td><td> 0.030</td><td>0.179</td><td>2.868</td><td>1</td></tr>\n",
              "\t<tr><th scope=row>3</th><td>Switzerland</td><td>Western Europe</td><td>7.571</td><td>11.117</td><td>0.942</td><td>74.4</td><td>0.919</td><td> 0.025</td><td>0.292</td><td>2.839</td><td>1</td></tr>\n",
              "</tbody>\n",
              "</table>\n"
            ],
            "text/markdown": "\nA data.frame: 3 × 11\n\n| <!--/--> | Country &lt;chr&gt; | Region &lt;chr&gt; | Happiness_score &lt;dbl&gt; | GDP &lt;dbl&gt; | Social_support &lt;dbl&gt; | Life_expectancy &lt;dbl&gt; | Freedom &lt;dbl&gt; | Generosity &lt;dbl&gt; | Corruption &lt;dbl&gt; | Dystopia_residual &lt;dbl&gt; | cluster &lt;fct&gt; |\n|---|---|---|---|---|---|---|---|---|---|---|---|\n| 1 | Finland     | Western Europe | 7.842 | 10.775 | 0.954 | 72.0 | 0.949 | -0.098 | 0.186 | 3.253 | 1 |\n| 2 | Denmark     | Western Europe | 7.620 | 10.933 | 0.954 | 72.7 | 0.946 |  0.030 | 0.179 | 2.868 | 1 |\n| 3 | Switzerland | Western Europe | 7.571 | 11.117 | 0.942 | 74.4 | 0.919 |  0.025 | 0.292 | 2.839 | 1 |\n\n",
            "text/latex": "A data.frame: 3 × 11\n\\begin{tabular}{r|lllllllllll}\n  & Country & Region & Happiness\\_score & GDP & Social\\_support & Life\\_expectancy & Freedom & Generosity & Corruption & Dystopia\\_residual & cluster\\\\\n  & <chr> & <chr> & <dbl> & <dbl> & <dbl> & <dbl> & <dbl> & <dbl> & <dbl> & <dbl> & <fct>\\\\\n\\hline\n\t1 & Finland     & Western Europe & 7.842 & 10.775 & 0.954 & 72.0 & 0.949 & -0.098 & 0.186 & 3.253 & 1\\\\\n\t2 & Denmark     & Western Europe & 7.620 & 10.933 & 0.954 & 72.7 & 0.946 &  0.030 & 0.179 & 2.868 & 1\\\\\n\t3 & Switzerland & Western Europe & 7.571 & 11.117 & 0.942 & 74.4 & 0.919 &  0.025 & 0.292 & 2.839 & 1\\\\\n\\end{tabular}\n",
            "text/plain": [
              "  Country     Region         Happiness_score GDP    Social_support\n",
              "1 Finland     Western Europe 7.842           10.775 0.954         \n",
              "2 Denmark     Western Europe 7.620           10.933 0.954         \n",
              "3 Switzerland Western Europe 7.571           11.117 0.942         \n",
              "  Life_expectancy Freedom Generosity Corruption Dystopia_residual cluster\n",
              "1 72.0            0.949   -0.098     0.186      3.253             1      \n",
              "2 72.7            0.946    0.030     0.179      2.868             1      \n",
              "3 74.4            0.919    0.025     0.292      2.839             1      "
            ]
          },
          "metadata": {}
        }
      ],
      "source": [
        "set.seed(1234)\n",
        "countries <- kmeans(data_ST, 4)\n",
        "\n",
        "countries1 <- df\n",
        "countries1$cluster <- as.factor(countries$cluster) # Добавление колонки с кластерами\n",
        "\n",
        "head(countries1,3)\n",
        "\n",
        "# Уровень счастья по кластерам\n",
        "countries_avg <- countries1 %>%\n",
        "  group_by(cluster) %>%\n",
        "  summarize_if(is.numeric, mean, na.rm = TRUE)"
      ]
    },
    {
      "cell_type": "code",
      "execution_count": null,
      "metadata": {
        "id": "aye3rlnLHYUb",
        "colab": {
          "base_uri": "https://localhost:8080/",
          "height": 223
        },
        "outputId": "b6d0c263-5baa-49d0-d521-2a69f07d5a30"
      },
      "outputs": [
        {
          "output_type": "display_data",
          "data": {
            "text/html": [
              "<table class=\"dataframe\">\n",
              "<caption>A tibble: 4 × 2</caption>\n",
              "<thead>\n",
              "\t<tr><th scope=col>cluster</th><th scope=col>Happiness_score</th></tr>\n",
              "\t<tr><th scope=col>&lt;fct&gt;</th><th scope=col>&lt;dbl&gt;</th></tr>\n",
              "</thead>\n",
              "<tbody>\n",
              "\t<tr><td>1</td><td>6.981769</td></tr>\n",
              "\t<tr><td>2</td><td>5.781732</td></tr>\n",
              "\t<tr><td>3</td><td>4.433190</td></tr>\n",
              "\t<tr><td>4</td><td>4.492484</td></tr>\n",
              "</tbody>\n",
              "</table>\n"
            ],
            "text/markdown": "\nA tibble: 4 × 2\n\n| cluster &lt;fct&gt; | Happiness_score &lt;dbl&gt; |\n|---|---|\n| 1 | 6.981769 |\n| 2 | 5.781732 |\n| 3 | 4.433190 |\n| 4 | 4.492484 |\n\n",
            "text/latex": "A tibble: 4 × 2\n\\begin{tabular}{ll}\n cluster & Happiness\\_score\\\\\n <fct> & <dbl>\\\\\n\\hline\n\t 1 & 6.981769\\\\\n\t 2 & 5.781732\\\\\n\t 3 & 4.433190\\\\\n\t 4 & 4.492484\\\\\n\\end{tabular}\n",
            "text/plain": [
              "  cluster Happiness_score\n",
              "1 1       6.981769       \n",
              "2 2       5.781732       \n",
              "3 3       4.433190       \n",
              "4 4       4.492484       "
            ]
          },
          "metadata": {}
        }
      ],
      "source": [
        "countries_avg[,1:2] # Средний уровень счастья в каждом кластере"
      ]
    },
    {
      "cell_type": "code",
      "execution_count": null,
      "metadata": {
        "id": "eoS-E58RHSJX",
        "colab": {
          "base_uri": "https://localhost:8080/",
          "height": 223
        },
        "outputId": "78a653eb-4d5b-4106-a6df-0b80a9dda9e9"
      },
      "outputs": [
        {
          "output_type": "display_data",
          "data": {
            "text/html": [
              "<table class=\"dataframe\">\n",
              "<caption>A tibble: 4 × 2</caption>\n",
              "<thead>\n",
              "\t<tr><th scope=col>cluster</th><th scope=col>Happiness_score</th></tr>\n",
              "\t<tr><th scope=col>&lt;fct&gt;</th><th scope=col>&lt;dbl&gt;</th></tr>\n",
              "</thead>\n",
              "<tbody>\n",
              "\t<tr><td>1</td><td>7.842</td></tr>\n",
              "\t<tr><td>2</td><td>7.069</td></tr>\n",
              "\t<tr><td>3</td><td>5.384</td></tr>\n",
              "\t<tr><td>4</td><td>5.342</td></tr>\n",
              "</tbody>\n",
              "</table>\n"
            ],
            "text/markdown": "\nA tibble: 4 × 2\n\n| cluster &lt;fct&gt; | Happiness_score &lt;dbl&gt; |\n|---|---|\n| 1 | 7.842 |\n| 2 | 7.069 |\n| 3 | 5.384 |\n| 4 | 5.342 |\n\n",
            "text/latex": "A tibble: 4 × 2\n\\begin{tabular}{ll}\n cluster & Happiness\\_score\\\\\n <fct> & <dbl>\\\\\n\\hline\n\t 1 & 7.842\\\\\n\t 2 & 7.069\\\\\n\t 3 & 5.384\\\\\n\t 4 & 5.342\\\\\n\\end{tabular}\n",
            "text/plain": [
              "  cluster Happiness_score\n",
              "1 1       7.842          \n",
              "2 2       7.069          \n",
              "3 3       5.384          \n",
              "4 4       5.342          "
            ]
          },
          "metadata": {}
        }
      ],
      "source": [
        "countries_max <- countries1 %>%\n",
        "  group_by(cluster) %>%\n",
        "  summarize_if(is.numeric, max, na.rm = TRUE)\n",
        "countries_max[,1:2] # Максимальный уровень счастья в каждом кластере"
      ]
    },
    {
      "cell_type": "code",
      "execution_count": null,
      "metadata": {
        "id": "UFlS9aNeHWKc",
        "colab": {
          "base_uri": "https://localhost:8080/",
          "height": 223
        },
        "outputId": "a5bc8cd9-6083-4352-9180-ebf070aa499d"
      },
      "outputs": [
        {
          "output_type": "display_data",
          "data": {
            "text/html": [
              "<table class=\"dataframe\">\n",
              "<caption>A tibble: 4 × 2</caption>\n",
              "<thead>\n",
              "\t<tr><th scope=col>cluster</th><th scope=col>Happiness_score</th></tr>\n",
              "\t<tr><th scope=col>&lt;fct&gt;</th><th scope=col>&lt;dbl&gt;</th></tr>\n",
              "</thead>\n",
              "<tbody>\n",
              "\t<tr><td>1</td><td>5.477</td></tr>\n",
              "\t<tr><td>2</td><td>4.517</td></tr>\n",
              "\t<tr><td>3</td><td>3.145</td></tr>\n",
              "\t<tr><td>4</td><td>2.523</td></tr>\n",
              "</tbody>\n",
              "</table>\n"
            ],
            "text/markdown": "\nA tibble: 4 × 2\n\n| cluster &lt;fct&gt; | Happiness_score &lt;dbl&gt; |\n|---|---|\n| 1 | 5.477 |\n| 2 | 4.517 |\n| 3 | 3.145 |\n| 4 | 2.523 |\n\n",
            "text/latex": "A tibble: 4 × 2\n\\begin{tabular}{ll}\n cluster & Happiness\\_score\\\\\n <fct> & <dbl>\\\\\n\\hline\n\t 1 & 5.477\\\\\n\t 2 & 4.517\\\\\n\t 3 & 3.145\\\\\n\t 4 & 2.523\\\\\n\\end{tabular}\n",
            "text/plain": [
              "  cluster Happiness_score\n",
              "1 1       5.477          \n",
              "2 2       4.517          \n",
              "3 3       3.145          \n",
              "4 4       2.523          "
            ]
          },
          "metadata": {}
        }
      ],
      "source": [
        "countries_min <- countries1 %>%\n",
        "  group_by(cluster) %>%\n",
        "  summarize_if(is.numeric, min, na.rm = TRUE)\n",
        "countries_min[,1:2] # Минимальный уровень счастья в каждом кластере"
      ]
    },
    {
      "cell_type": "code",
      "execution_count": null,
      "metadata": {
        "id": "JKU4PYqMHZQt",
        "colab": {
          "base_uri": "https://localhost:8080/",
          "height": 273
        },
        "outputId": "73cb2d58-4c8f-453d-e4a3-93a99dd6da28"
      },
      "outputs": [
        {
          "output_type": "display_data",
          "data": {
            "text/html": [
              "<table class=\"dataframe\">\n",
              "<caption>A data.frame: 3 × 6</caption>\n",
              "<thead>\n",
              "\t<tr><th></th><th scope=col>long</th><th scope=col>lat</th><th scope=col>group</th><th scope=col>order</th><th scope=col>region</th><th scope=col>subregion</th></tr>\n",
              "\t<tr><th></th><th scope=col>&lt;dbl&gt;</th><th scope=col>&lt;dbl&gt;</th><th scope=col>&lt;dbl&gt;</th><th scope=col>&lt;int&gt;</th><th scope=col>&lt;chr&gt;</th><th scope=col>&lt;chr&gt;</th></tr>\n",
              "</thead>\n",
              "<tbody>\n",
              "\t<tr><th scope=row>1</th><td>-69.89912</td><td>12.45200</td><td>1</td><td>1</td><td>Aruba</td><td>NA</td></tr>\n",
              "\t<tr><th scope=row>2</th><td>-69.89571</td><td>12.42300</td><td>1</td><td>2</td><td>Aruba</td><td>NA</td></tr>\n",
              "\t<tr><th scope=row>3</th><td>-69.94219</td><td>12.43853</td><td>1</td><td>3</td><td>Aruba</td><td>NA</td></tr>\n",
              "</tbody>\n",
              "</table>\n"
            ],
            "text/markdown": "\nA data.frame: 3 × 6\n\n| <!--/--> | long &lt;dbl&gt; | lat &lt;dbl&gt; | group &lt;dbl&gt; | order &lt;int&gt; | region &lt;chr&gt; | subregion &lt;chr&gt; |\n|---|---|---|---|---|---|---|\n| 1 | -69.89912 | 12.45200 | 1 | 1 | Aruba | NA |\n| 2 | -69.89571 | 12.42300 | 1 | 2 | Aruba | NA |\n| 3 | -69.94219 | 12.43853 | 1 | 3 | Aruba | NA |\n\n",
            "text/latex": "A data.frame: 3 × 6\n\\begin{tabular}{r|llllll}\n  & long & lat & group & order & region & subregion\\\\\n  & <dbl> & <dbl> & <dbl> & <int> & <chr> & <chr>\\\\\n\\hline\n\t1 & -69.89912 & 12.45200 & 1 & 1 & Aruba & NA\\\\\n\t2 & -69.89571 & 12.42300 & 1 & 2 & Aruba & NA\\\\\n\t3 & -69.94219 & 12.43853 & 1 & 3 & Aruba & NA\\\\\n\\end{tabular}\n",
            "text/plain": [
              "  long      lat      group order region subregion\n",
              "1 -69.89912 12.45200 1     1     Aruba  NA       \n",
              "2 -69.89571 12.42300 1     2     Aruba  NA       \n",
              "3 -69.94219 12.43853 1     3     Aruba  NA       "
            ]
          },
          "metadata": {}
        },
        {
          "output_type": "display_data",
          "data": {
            "text/html": [
              "<table class=\"dataframe\">\n",
              "<caption>A data.frame: 0 × 8</caption>\n",
              "<thead>\n",
              "\t<tr><th scope=col>Country</th><th scope=col>cluster</th><th scope=col>long</th><th scope=col>lat</th><th scope=col>group</th><th scope=col>order</th><th scope=col>region</th><th scope=col>subregion</th></tr>\n",
              "\t<tr><th scope=col>&lt;chr&gt;</th><th scope=col>&lt;dbl&gt;</th><th scope=col>&lt;dbl&gt;</th><th scope=col>&lt;dbl&gt;</th><th scope=col>&lt;dbl&gt;</th><th scope=col>&lt;int&gt;</th><th scope=col>&lt;chr&gt;</th><th scope=col>&lt;chr&gt;</th></tr>\n",
              "</thead>\n",
              "<tbody>\n",
              "</tbody>\n",
              "</table>\n"
            ],
            "text/markdown": "\nA data.frame: 0 × 8\n\n| Country &lt;chr&gt; | cluster &lt;dbl&gt; | long &lt;dbl&gt; | lat &lt;dbl&gt; | group &lt;dbl&gt; | order &lt;int&gt; | region &lt;chr&gt; | subregion &lt;chr&gt; |\n|---|---|---|---|---|---|---|---|\n\n",
            "text/latex": "A data.frame: 0 × 8\n\\begin{tabular}{llllllll}\n Country & cluster & long & lat & group & order & region & subregion\\\\\n <chr> & <dbl> & <dbl> & <dbl> & <dbl> & <int> & <chr> & <chr>\\\\\n\\hline\n\\end{tabular}\n",
            "text/plain": [
              "     Country cluster long lat group order region subregion"
            ]
          },
          "metadata": {}
        }
      ],
      "source": [
        "require(maps)\n",
        "world_map <- map_data(\"world\") # Информация по странам\n",
        "head(world_map,3)\n",
        "\n",
        "# Обработка неточных значений\n",
        "countries1$Country[countries1$Country == \"United Kingdom\"] <- \"UK\"\n",
        "countries1$Country[countries1$Country == \"United States\"] <- \"USA\"\n",
        "countries1$Country[countries1$Country == \"Taiwan Province of China\"] <- \"Taiwan\"\n",
        "countries1$Country[countries1$Country == \"North Cyprus\"] <- \"Cyprus\"\n",
        "countries1$Country[countries1$Country == \"Hong Kong S.A.R. of China\"] <- \"China\"\n",
        "countries1$Country[countries1$Country == \"Congo (Brazzaville)\"] <- \"Republic of Congo\"\n",
        "countries1$Country[countries1$Country == \"Palestinian Territories\"] <- \"Palestine\"\n",
        "\n",
        "countries_by_cluster <- countries1[,c(\"Country\", \"cluster\")]\n",
        "countries_by_cluster$cluster <- as.numeric(countries_by_cluster$cluster)\n",
        "\n",
        "# Объединение данных\n",
        "clustering_map <- left_join(countries_by_cluster, world_map, by = c(\"Country\"  = \"region\"), keep = TRUE, relationship =\n",
        "  \"many-to-many\")\n",
        "\n",
        "clustering_map %>% filter (is.na(region))"
      ]
    },
    {
      "cell_type": "code",
      "execution_count": null,
      "metadata": {
        "id": "9vmQKAWUHglR",
        "colab": {
          "base_uri": "https://localhost:8080/",
          "height": 497
        },
        "outputId": "e2599994-c942-41b4-e990-bbca0c8aa0c3"
      },
      "outputs": [
        {
          "output_type": "display_data",
          "data": {
            "text/plain": [
              "plot without title"
            ],
            "image/png": "[encoded data removed]"
          },
          "metadata": {
            "image/png": {
              "width": 900,
              "height": 480
            }
          }
        }
      ],
      "source": [
        "# Визуализация кластеров на карте\n",
        "all.layer <- geom_polygon(data = world_map, aes(long, lat, group = group))\n",
        "\n",
        "ggplot(clustering_map, aes(long, lat, group = group))+\n",
        "  all.layer +\n",
        "  geom_polygon(aes(fill = cluster)) +\n",
        "  scale_fill_viridis_c(option = \"C\", labels=c(\"5.48-7.84\", \"4.52-7.07\", \"3.14-5.38\", \"2.52-5.34\")) # Разбить на кластеры по цветам"
      ]
    }
  ],
  "metadata": {
    "colab": {
      "provenance": [],
      "authorship_tag": "ABX9TyMHFI+P/C3niLOwwPb5d7hq",
      "include_colab_link": true
    },
    "kernelspec": {
      "display_name": "R",
      "name": "ir"
    },
    "language_info": {
      "name": "R"
    }
  },
  "nbformat": 4,
  "nbformat_minor": 0
}